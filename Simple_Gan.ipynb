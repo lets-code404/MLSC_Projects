{
 "cells": [
  {
   "cell_type": "code",
   "execution_count": 15,
   "id": "4cf342af-fac0-4f73-be79-c680640642d7",
   "metadata": {},
   "outputs": [
    {
     "name": "stdout",
     "output_type": "stream",
     "text": [
      "Requirement already satisfied: torch in c:\\users\\yasha\\anaconda3\\lib\\site-packages (2.5.0)\n",
      "Requirement already satisfied: torchvision in c:\\users\\yasha\\anaconda3\\lib\\site-packages (0.20.0)\n",
      "Requirement already satisfied: torchaudio in c:\\users\\yasha\\anaconda3\\lib\\site-packages (2.5.0)\n",
      "Requirement already satisfied: filelock in c:\\users\\yasha\\anaconda3\\lib\\site-packages (from torch) (3.13.1)\n",
      "Requirement already satisfied: typing-extensions>=4.8.0 in c:\\users\\yasha\\anaconda3\\lib\\site-packages (from torch) (4.11.0)\n",
      "Requirement already satisfied: networkx in c:\\users\\yasha\\anaconda3\\lib\\site-packages (from torch) (3.2.1)\n",
      "Requirement already satisfied: jinja2 in c:\\users\\yasha\\anaconda3\\lib\\site-packages (from torch) (3.1.4)\n",
      "Requirement already satisfied: fsspec in c:\\users\\yasha\\anaconda3\\lib\\site-packages (from torch) (2024.3.1)\n",
      "Requirement already satisfied: setuptools in c:\\users\\yasha\\anaconda3\\lib\\site-packages (from torch) (75.2.0)\n",
      "Requirement already satisfied: sympy==1.13.1 in c:\\users\\yasha\\anaconda3\\lib\\site-packages (from torch) (1.13.1)\n",
      "Requirement already satisfied: mpmath<1.4,>=1.1.0 in c:\\users\\yasha\\anaconda3\\lib\\site-packages (from sympy==1.13.1->torch) (1.3.0)\n",
      "Requirement already satisfied: numpy in c:\\users\\yasha\\anaconda3\\lib\\site-packages (from torchvision) (1.26.4)\n",
      "Requirement already satisfied: pillow!=8.3.*,>=5.3.0 in c:\\users\\yasha\\anaconda3\\lib\\site-packages (from torchvision) (10.3.0)\n",
      "Requirement already satisfied: MarkupSafe>=2.0 in c:\\users\\yasha\\anaconda3\\lib\\site-packages (from jinja2->torch) (2.1.3)\n"
     ]
    }
   ],
   "source": [
    "!pip install torch torchvision torchaudio"
   ]
  },
  {
   "cell_type": "code",
   "execution_count": 12,
   "id": "13e4597a-241d-4c20-860d-ff5a04b39d14",
   "metadata": {},
   "outputs": [
    {
     "name": "stdout",
     "output_type": "stream",
     "text": [
      "Requirement already satisfied: pip in c:\\users\\yasha\\anaconda3\\lib\\site-packages (24.0)\n",
      "Collecting pip\n",
      "  Downloading pip-24.2-py3-none-any.whl.metadata (3.6 kB)\n",
      "Requirement already satisfied: setuptools in c:\\users\\yasha\\anaconda3\\lib\\site-packages (69.5.1)\n",
      "Collecting setuptools\n",
      "  Using cached setuptools-75.2.0-py3-none-any.whl.metadata (6.9 kB)\n",
      "Downloading pip-24.2-py3-none-any.whl (1.8 MB)\n",
      "   ---------------------------------------- 0.0/1.8 MB ? eta -:--:--\n",
      "   ---------------------------------------- 0.0/1.8 MB ? eta -:--:--\n",
      "   ---------------------------------------- 0.0/1.8 MB ? eta -:--:--\n",
      "    --------------------------------------- 0.0/1.8 MB 435.7 kB/s eta 0:00:05\n",
      "   -- ------------------------------------- 0.1/1.8 MB 871.5 kB/s eta 0:00:02\n",
      "   --- ------------------------------------ 0.2/1.8 MB 1.3 MB/s eta 0:00:02\n",
      "   ------ --------------------------------- 0.3/1.8 MB 1.5 MB/s eta 0:00:02\n",
      "   -------- ------------------------------- 0.4/1.8 MB 1.6 MB/s eta 0:00:01\n",
      "   ---------- ----------------------------- 0.5/1.8 MB 1.7 MB/s eta 0:00:01\n",
      "   ------------ --------------------------- 0.6/1.8 MB 1.7 MB/s eta 0:00:01\n",
      "   -------------- ------------------------- 0.6/1.8 MB 1.7 MB/s eta 0:00:01\n",
      "   ---------------- ----------------------- 0.8/1.8 MB 1.8 MB/s eta 0:00:01\n",
      "   ------------------- -------------------- 0.9/1.8 MB 1.9 MB/s eta 0:00:01\n",
      "   ---------------------- ----------------- 1.0/1.8 MB 1.9 MB/s eta 0:00:01\n",
      "   ------------------------- -------------- 1.2/1.8 MB 2.1 MB/s eta 0:00:01\n",
      "   ----------------------------- ---------- 1.3/1.8 MB 2.2 MB/s eta 0:00:01\n",
      "   ------------------------------- -------- 1.4/1.8 MB 2.2 MB/s eta 0:00:01\n",
      "   -------------------------------- ------- 1.5/1.8 MB 2.1 MB/s eta 0:00:01\n",
      "   --------------------------------- ------ 1.5/1.8 MB 2.0 MB/s eta 0:00:01\n",
      "   ---------------------------------- ----- 1.6/1.8 MB 2.0 MB/s eta 0:00:01\n",
      "   ----------------------------------- ---- 1.6/1.8 MB 1.9 MB/s eta 0:00:01\n",
      "   ------------------------------------- -- 1.7/1.8 MB 1.9 MB/s eta 0:00:01\n",
      "   ---------------------------------------  1.8/1.8 MB 1.9 MB/s eta 0:00:01\n",
      "   ---------------------------------------- 1.8/1.8 MB 1.9 MB/s eta 0:00:00\n",
      "Using cached setuptools-75.2.0-py3-none-any.whl (1.2 MB)\n",
      "Installing collected packages: setuptools, pip\n",
      "  Attempting uninstall: setuptools\n",
      "    Found existing installation: setuptools 69.5.1\n",
      "    Uninstalling setuptools-69.5.1:\n",
      "      Successfully uninstalled setuptools-69.5.1\n",
      "  Attempting uninstall: pip\n",
      "    Found existing installation: pip 24.0\n",
      "    Uninstalling pip-24.0:\n",
      "      Successfully uninstalled pip-24.0\n",
      "Successfully installed pip-24.2 setuptools-75.2.0\n",
      "Note: you may need to restart the kernel to use updated packages.\n"
     ]
    }
   ],
   "source": [
    "pip install --upgrade pip setuptools"
   ]
  },
  {
   "cell_type": "code",
   "execution_count": 8,
   "id": "f9f76079-a98c-41cd-881f-1a045235df5b",
   "metadata": {},
   "outputs": [
    {
     "name": "stdout",
     "output_type": "stream",
     "text": [
      "2.5.0+cpu\n"
     ]
    }
   ],
   "source": [
    " import torch\n",
    " print(torch.__version__)"
   ]
  },
  {
   "cell_type": "code",
   "execution_count": 10,
   "id": "b93fdffe-f072-42cf-84c9-0ad779a4aeac",
   "metadata": {},
   "outputs": [
    {
     "name": "stdout",
     "output_type": "stream",
     "text": [
      "Downloading http://yann.lecun.com/exdb/mnist/train-images-idx3-ubyte.gz\n",
      "Failed to download (trying next):\n",
      "<urlopen error [SSL: CERTIFICATE_VERIFY_FAILED] certificate verify failed: certificate has expired (_ssl.c:1000)>\n",
      "\n",
      "Downloading https://ossci-datasets.s3.amazonaws.com/mnist/train-images-idx3-ubyte.gz\n",
      "Downloading https://ossci-datasets.s3.amazonaws.com/mnist/train-images-idx3-ubyte.gz to dataset/MNIST\\raw\\train-images-idx3-ubyte.gz\n"
     ]
    },
    {
     "name": "stderr",
     "output_type": "stream",
     "text": [
      "100%|██████████| 9.91M/9.91M [00:02<00:00, 4.10MB/s]\n"
     ]
    },
    {
     "name": "stdout",
     "output_type": "stream",
     "text": [
      "Extracting dataset/MNIST\\raw\\train-images-idx3-ubyte.gz to dataset/MNIST\\raw\n",
      "\n",
      "Downloading http://yann.lecun.com/exdb/mnist/train-labels-idx1-ubyte.gz\n",
      "Failed to download (trying next):\n",
      "<urlopen error [SSL: CERTIFICATE_VERIFY_FAILED] certificate verify failed: certificate has expired (_ssl.c:1000)>\n",
      "\n",
      "Downloading https://ossci-datasets.s3.amazonaws.com/mnist/train-labels-idx1-ubyte.gz\n",
      "Downloading https://ossci-datasets.s3.amazonaws.com/mnist/train-labels-idx1-ubyte.gz to dataset/MNIST\\raw\\train-labels-idx1-ubyte.gz\n"
     ]
    },
    {
     "name": "stderr",
     "output_type": "stream",
     "text": [
      "100%|██████████| 28.9k/28.9k [00:00<00:00, 131kB/s]\n"
     ]
    },
    {
     "name": "stdout",
     "output_type": "stream",
     "text": [
      "Extracting dataset/MNIST\\raw\\train-labels-idx1-ubyte.gz to dataset/MNIST\\raw\n",
      "\n",
      "Downloading http://yann.lecun.com/exdb/mnist/t10k-images-idx3-ubyte.gz\n",
      "Failed to download (trying next):\n",
      "<urlopen error [SSL: CERTIFICATE_VERIFY_FAILED] certificate verify failed: certificate has expired (_ssl.c:1000)>\n",
      "\n",
      "Downloading https://ossci-datasets.s3.amazonaws.com/mnist/t10k-images-idx3-ubyte.gz\n",
      "Downloading https://ossci-datasets.s3.amazonaws.com/mnist/t10k-images-idx3-ubyte.gz to dataset/MNIST\\raw\\t10k-images-idx3-ubyte.gz\n"
     ]
    },
    {
     "name": "stderr",
     "output_type": "stream",
     "text": [
      "100%|██████████| 1.65M/1.65M [00:04<00:00, 342kB/s]\n"
     ]
    },
    {
     "name": "stdout",
     "output_type": "stream",
     "text": [
      "Extracting dataset/MNIST\\raw\\t10k-images-idx3-ubyte.gz to dataset/MNIST\\raw\n",
      "\n",
      "Downloading http://yann.lecun.com/exdb/mnist/t10k-labels-idx1-ubyte.gz\n",
      "Failed to download (trying next):\n",
      "<urlopen error [SSL: CERTIFICATE_VERIFY_FAILED] certificate verify failed: certificate has expired (_ssl.c:1000)>\n",
      "\n",
      "Downloading https://ossci-datasets.s3.amazonaws.com/mnist/t10k-labels-idx1-ubyte.gz\n",
      "Downloading https://ossci-datasets.s3.amazonaws.com/mnist/t10k-labels-idx1-ubyte.gz to dataset/MNIST\\raw\\t10k-labels-idx1-ubyte.gz\n"
     ]
    },
    {
     "name": "stderr",
     "output_type": "stream",
     "text": [
      "100%|██████████| 4.54k/4.54k [00:00<?, ?B/s]\n"
     ]
    },
    {
     "name": "stdout",
     "output_type": "stream",
     "text": [
      "Extracting dataset/MNIST\\raw\\t10k-labels-idx1-ubyte.gz to dataset/MNIST\\raw\n",
      "\n",
      "Epoch [0/50] Batch 0/1875                       Loss D: 0.6851, loss G: 0.7395\n",
      "Epoch [1/50] Batch 0/1875                       Loss D: 0.2407, loss G: 1.9745\n",
      "Epoch [2/50] Batch 0/1875                       Loss D: 0.4128, loss G: 1.1988\n",
      "Epoch [3/50] Batch 0/1875                       Loss D: 0.3380, loss G: 1.6598\n",
      "Epoch [4/50] Batch 0/1875                       Loss D: 0.3605, loss G: 1.6185\n",
      "Epoch [5/50] Batch 0/1875                       Loss D: 0.8090, loss G: 0.8449\n",
      "Epoch [6/50] Batch 0/1875                       Loss D: 0.6364, loss G: 1.1102\n",
      "Epoch [7/50] Batch 0/1875                       Loss D: 0.4860, loss G: 1.5830\n",
      "Epoch [8/50] Batch 0/1875                       Loss D: 0.7059, loss G: 0.9655\n",
      "Epoch [9/50] Batch 0/1875                       Loss D: 0.4723, loss G: 1.6603\n",
      "Epoch [10/50] Batch 0/1875                       Loss D: 0.4024, loss G: 1.5712\n",
      "Epoch [11/50] Batch 0/1875                       Loss D: 0.7842, loss G: 1.0030\n",
      "Epoch [12/50] Batch 0/1875                       Loss D: 0.5435, loss G: 1.0024\n",
      "Epoch [13/50] Batch 0/1875                       Loss D: 0.5371, loss G: 1.5202\n",
      "Epoch [14/50] Batch 0/1875                       Loss D: 0.6788, loss G: 1.3508\n",
      "Epoch [15/50] Batch 0/1875                       Loss D: 0.6746, loss G: 1.0943\n",
      "Epoch [16/50] Batch 0/1875                       Loss D: 0.5239, loss G: 1.8528\n",
      "Epoch [17/50] Batch 0/1875                       Loss D: 0.3707, loss G: 1.9536\n",
      "Epoch [18/50] Batch 0/1875                       Loss D: 0.5437, loss G: 1.3197\n",
      "Epoch [19/50] Batch 0/1875                       Loss D: 0.5849, loss G: 1.3876\n",
      "Epoch [20/50] Batch 0/1875                       Loss D: 0.4355, loss G: 1.8852\n",
      "Epoch [21/50] Batch 0/1875                       Loss D: 0.4877, loss G: 1.4695\n",
      "Epoch [22/50] Batch 0/1875                       Loss D: 0.9115, loss G: 0.9793\n",
      "Epoch [23/50] Batch 0/1875                       Loss D: 0.5519, loss G: 1.5795\n",
      "Epoch [24/50] Batch 0/1875                       Loss D: 0.6650, loss G: 2.5271\n",
      "Epoch [25/50] Batch 0/1875                       Loss D: 0.7306, loss G: 1.7391\n",
      "Epoch [26/50] Batch 0/1875                       Loss D: 0.3983, loss G: 2.1762\n",
      "Epoch [27/50] Batch 0/1875                       Loss D: 0.4266, loss G: 1.5310\n",
      "Epoch [28/50] Batch 0/1875                       Loss D: 0.5413, loss G: 1.6958\n",
      "Epoch [29/50] Batch 0/1875                       Loss D: 0.5339, loss G: 1.7671\n",
      "Epoch [30/50] Batch 0/1875                       Loss D: 0.5466, loss G: 1.9700\n",
      "Epoch [31/50] Batch 0/1875                       Loss D: 0.5203, loss G: 1.4022\n",
      "Epoch [32/50] Batch 0/1875                       Loss D: 0.5594, loss G: 1.3954\n",
      "Epoch [33/50] Batch 0/1875                       Loss D: 0.7413, loss G: 1.3906\n",
      "Epoch [34/50] Batch 0/1875                       Loss D: 0.5670, loss G: 1.2032\n",
      "Epoch [35/50] Batch 0/1875                       Loss D: 0.3824, loss G: 1.6836\n",
      "Epoch [36/50] Batch 0/1875                       Loss D: 0.4869, loss G: 1.6004\n",
      "Epoch [37/50] Batch 0/1875                       Loss D: 0.5558, loss G: 1.3461\n",
      "Epoch [38/50] Batch 0/1875                       Loss D: 0.4922, loss G: 1.3529\n",
      "Epoch [39/50] Batch 0/1875                       Loss D: 0.6102, loss G: 1.2359\n",
      "Epoch [40/50] Batch 0/1875                       Loss D: 0.8086, loss G: 1.2003\n",
      "Epoch [41/50] Batch 0/1875                       Loss D: 0.5662, loss G: 1.2946\n",
      "Epoch [42/50] Batch 0/1875                       Loss D: 0.5477, loss G: 1.5837\n",
      "Epoch [43/50] Batch 0/1875                       Loss D: 0.4996, loss G: 1.2115\n",
      "Epoch [44/50] Batch 0/1875                       Loss D: 0.6654, loss G: 0.8809\n",
      "Epoch [45/50] Batch 0/1875                       Loss D: 0.7129, loss G: 1.0183\n",
      "Epoch [46/50] Batch 0/1875                       Loss D: 0.7632, loss G: 0.9464\n",
      "Epoch [47/50] Batch 0/1875                       Loss D: 0.5646, loss G: 1.1616\n",
      "Epoch [48/50] Batch 0/1875                       Loss D: 0.5892, loss G: 1.1492\n",
      "Epoch [49/50] Batch 0/1875                       Loss D: 0.6357, loss G: 0.8579\n"
     ]
    }
   ],
   "source": [
    "import torch\n",
    "import torch.nn as nn\n",
    "import torch.optim as optim\n",
    "import torchvision\n",
    "import torchvision.datasets as datasets\n",
    "from torch.utils.data import DataLoader\n",
    "import torchvision.transforms as transforms\n",
    "from torch.utils.tensorboard import SummaryWriter  # to print to tensorboard\n",
    "\n",
    "\n",
    "class Discriminator(nn.Module):\n",
    "    def __init__(self, in_features):\n",
    "        super().__init__()\n",
    "        self.disc = nn.Sequential(\n",
    "            nn.Linear(in_features, 128),\n",
    "            nn.LeakyReLU(0.01),\n",
    "            nn.Linear(128, 1),\n",
    "            nn.Sigmoid(),\n",
    "        )\n",
    "\n",
    "    def forward(self, x):\n",
    "        return self.disc(x)\n",
    "\n",
    "\n",
    "class Generator(nn.Module):\n",
    "    def __init__(self, z_dim, img_dim):\n",
    "        super().__init__()\n",
    "        self.gen = nn.Sequential(\n",
    "            nn.Linear(z_dim, 256),\n",
    "            nn.LeakyReLU(0.01),\n",
    "            nn.Linear(256, img_dim),\n",
    "            nn.Tanh(),  # normalize inputs to [-1, 1] so make outputs [-1, 1]\n",
    "        )\n",
    "\n",
    "    def forward(self, x):\n",
    "        return self.gen(x)\n",
    "\n",
    "\n",
    "# Hyperparameters etc.\n",
    "device = \"cuda\" if torch.cuda.is_available() else \"cpu\"\n",
    "lr = 3e-4\n",
    "z_dim = 64\n",
    "image_dim = 28 * 28 * 1  # 784\n",
    "batch_size = 32\n",
    "num_epochs = 50\n",
    "\n",
    "disc = Discriminator(image_dim).to(device)\n",
    "gen = Generator(z_dim, image_dim).to(device)\n",
    "fixed_noise = torch.randn((batch_size, z_dim)).to(device)\n",
    "transforms = transforms.Compose(\n",
    "    [\n",
    "        transforms.ToTensor(),\n",
    "        transforms.Normalize((0.5,), (0.5,)),\n",
    "    ]\n",
    ")\n",
    "\n",
    "dataset = datasets.MNIST(root=\"dataset/\", transform=transforms, download=True)\n",
    "loader = DataLoader(dataset, batch_size=batch_size, shuffle=True)\n",
    "opt_disc = optim.Adam(disc.parameters(), lr=lr)\n",
    "opt_gen = optim.Adam(gen.parameters(), lr=lr)\n",
    "criterion = nn.BCELoss()\n",
    "writer_fake = SummaryWriter(f\"logs/fake\")\n",
    "writer_real = SummaryWriter(f\"logs/real\")\n",
    "step = 0\n",
    "\n",
    "for epoch in range(num_epochs):\n",
    "    for batch_idx, (real, _) in enumerate(loader):\n",
    "        real = real.view(-1, 784).to(device)\n",
    "        batch_size = real.shape[0]\n",
    "\n",
    "        ### Train Discriminator: max log(D(x)) + log(1 - D(G(z)))\n",
    "        noise = torch.randn(batch_size, z_dim).to(device)\n",
    "        fake = gen(noise)\n",
    "        disc_real = disc(real).view(-1)\n",
    "        lossD_real = criterion(disc_real, torch.ones_like(disc_real))\n",
    "        disc_fake = disc(fake).view(-1)\n",
    "        lossD_fake = criterion(disc_fake, torch.zeros_like(disc_fake))\n",
    "        lossD = (lossD_real + lossD_fake) / 2\n",
    "        disc.zero_grad()\n",
    "        lossD.backward(retain_graph=True)\n",
    "        opt_disc.step()\n",
    "\n",
    "        ### Train Generator: min log(1 - D(G(z))) <-> max log(D(G(z))\n",
    "        # where the second option of maximizing doesn't suffer from\n",
    "        # saturating gradients\n",
    "        output = disc(fake).view(-1)\n",
    "        lossG = criterion(output, torch.ones_like(output))\n",
    "        gen.zero_grad()\n",
    "        lossG.backward()\n",
    "        opt_gen.step()\n",
    "\n",
    "        if batch_idx == 0:\n",
    "            print(\n",
    "                f\"Epoch [{epoch}/{num_epochs}] Batch {batch_idx}/{len(loader)} \\\n",
    "                      Loss D: {lossD:.4f}, loss G: {lossG:.4f}\"\n",
    "            )\n",
    "\n",
    "            with torch.no_grad():\n",
    "                fake = gen(fixed_noise).reshape(-1, 1, 28, 28)\n",
    "                data = real.reshape(-1, 1, 28, 28)\n",
    "                img_grid_fake = torchvision.utils.make_grid(fake, normalize=True)\n",
    "                img_grid_real = torchvision.utils.make_grid(data, normalize=True)\n",
    "\n",
    "                writer_fake.add_image(\n",
    "                    \"Mnist Fake Images\", img_grid_fake, global_step=step\n",
    "                )\n",
    "                writer_real.add_image(\n",
    "                    \"Mnist Real Images\", img_grid_real, global_step=step\n",
    "                )\n",
    "                step += 1"
   ]
  }
 ],
 "metadata": {
  "kernelspec": {
   "display_name": "Python 3 (ipykernel)",
   "language": "python",
   "name": "python3"
  },
  "language_info": {
   "codemirror_mode": {
    "name": "ipython",
    "version": 3
   },
   "file_extension": ".py",
   "mimetype": "text/x-python",
   "name": "python",
   "nbconvert_exporter": "python",
   "pygments_lexer": "ipython3",
   "version": "3.12.4"
  }
 },
 "nbformat": 4,
 "nbformat_minor": 5
}
